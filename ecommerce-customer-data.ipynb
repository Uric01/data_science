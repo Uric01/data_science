{
 "cells": [
  {
   "cell_type": "code",
   "execution_count": 1,
   "id": "ce9c69ec",
   "metadata": {
    "_cell_guid": "b1076dfc-b9ad-4769-8c92-a6c4dae69d19",
    "_uuid": "8f2839f25d086af736a60e9eeb907d3b93b6e0e5",
    "execution": {
     "iopub.execute_input": "2024-05-18T16:21:12.864956Z",
     "iopub.status.busy": "2024-05-18T16:21:12.864515Z",
     "iopub.status.idle": "2024-05-18T16:21:14.897672Z",
     "shell.execute_reply": "2024-05-18T16:21:14.896234Z"
    },
    "papermill": {
     "duration": 2.042474,
     "end_time": "2024-05-18T16:21:14.900373",
     "exception": false,
     "start_time": "2024-05-18T16:21:12.857899",
     "status": "completed"
    },
    "tags": []
   },
   "outputs": [
    {
     "name": "stdout",
     "output_type": "stream",
     "text": [
      "/kaggle/input/ecommerce-customer-analysis/ecomm_data.csv\n"
     ]
    }
   ],
   "source": [
    "# This Python 3 environment comes with many helpful analytics libraries installed\n",
    "# It is defined by the kaggle/python Docker image: https://github.com/kaggle/docker-python\n",
    "# For example, here's several helpful packages to load\n",
    "\n",
    "import numpy as np # linear algebra\n",
    "import pandas as pd # data processing, CSV file I/O (e.g. pd.read_csv)\n",
    "import random\n",
    "import matplotlib.pyplot as plt\n",
    "import scipy.stats\n",
    "from scipy.stats import ttest_ind\n",
    "# Input data files are available in the read-only \"../input/\" directory\n",
    "# For example, running this (by clicking run or pressing Shift+Enter) will list all files under the input directory\n",
    "\n",
    "import os\n",
    "for dirname, _, filenames in os.walk('/kaggle/input'):\n",
    "    for filename in filenames:\n",
    "        print(os.path.join(dirname, filename))\n",
    "\n",
    "# You can write up to 20GB to the current directory (/kaggle/working/) that gets preserved as output when you create a version using \"Save & Run All\" \n",
    "# You can also write temporary files to /kaggle/temp/, but they won't be saved outside of the current session"
   ]
  },
  {
   "cell_type": "code",
   "execution_count": 2,
   "id": "2abd4a1a",
   "metadata": {
    "execution": {
     "iopub.execute_input": "2024-05-18T16:21:14.911544Z",
     "iopub.status.busy": "2024-05-18T16:21:14.910935Z",
     "iopub.status.idle": "2024-05-18T16:21:14.966334Z",
     "shell.execute_reply": "2024-05-18T16:21:14.965234Z"
    },
    "papermill": {
     "duration": 0.063837,
     "end_time": "2024-05-18T16:21:14.968906",
     "exception": false,
     "start_time": "2024-05-18T16:21:14.905069",
     "status": "completed"
    },
    "tags": []
   },
   "outputs": [
    {
     "data": {
      "text/html": [
       "<div>\n",
       "<style scoped>\n",
       "    .dataframe tbody tr th:only-of-type {\n",
       "        vertical-align: middle;\n",
       "    }\n",
       "\n",
       "    .dataframe tbody tr th {\n",
       "        vertical-align: top;\n",
       "    }\n",
       "\n",
       "    .dataframe thead th {\n",
       "        text-align: right;\n",
       "    }\n",
       "</style>\n",
       "<table border=\"1\" class=\"dataframe\">\n",
       "  <thead>\n",
       "    <tr style=\"text-align: right;\">\n",
       "      <th></th>\n",
       "      <th>\\tEmail</th>\n",
       "      <th>Address</th>\n",
       "      <th>Avatar</th>\n",
       "      <th>Time on App</th>\n",
       "      <th>Time on Website</th>\n",
       "      <th>Length of Membership</th>\n",
       "      <th>Yearly Amount Spent</th>\n",
       "    </tr>\n",
       "  </thead>\n",
       "  <tbody>\n",
       "    <tr>\n",
       "      <th>0</th>\n",
       "      <td>mstephenson@fernandez.com</td>\n",
       "      <td>835 Frank TunnelWrightmouth, MI 82180-9605</td>\n",
       "      <td>Violet</td>\n",
       "      <td>12.66</td>\n",
       "      <td>39.58</td>\n",
       "      <td>4.08</td>\n",
       "      <td>587.95</td>\n",
       "    </tr>\n",
       "    <tr>\n",
       "      <th>1</th>\n",
       "      <td>hduke@hotmail.com</td>\n",
       "      <td>4547 Archer CommonDiazchester, CA 06566-8576</td>\n",
       "      <td>DarkGreen</td>\n",
       "      <td>11.11</td>\n",
       "      <td>37.27</td>\n",
       "      <td>2.66</td>\n",
       "      <td>392.20</td>\n",
       "    </tr>\n",
       "    <tr>\n",
       "      <th>2</th>\n",
       "      <td>pallen@yahoo.com</td>\n",
       "      <td>24645 Valerie Unions Suite 582Cobbborough, DC ...</td>\n",
       "      <td>Bisque</td>\n",
       "      <td>11.33</td>\n",
       "      <td>37.11</td>\n",
       "      <td>4.10</td>\n",
       "      <td>487.55</td>\n",
       "    </tr>\n",
       "    <tr>\n",
       "      <th>3</th>\n",
       "      <td>riverarebecca@gmail.com</td>\n",
       "      <td>1414 David ThroughwayPort Jason, OH 22070-1220</td>\n",
       "      <td>SaddleBrown</td>\n",
       "      <td>13.72</td>\n",
       "      <td>36.72</td>\n",
       "      <td>3.12</td>\n",
       "      <td>581.85</td>\n",
       "    </tr>\n",
       "    <tr>\n",
       "      <th>4</th>\n",
       "      <td>mstephens@davidson-herman.com</td>\n",
       "      <td>14023 Rodriguez PassagePort Jacobville, PR 372...</td>\n",
       "      <td>MediumAquaMarine</td>\n",
       "      <td>12.80</td>\n",
       "      <td>37.54</td>\n",
       "      <td>4.45</td>\n",
       "      <td>599.41</td>\n",
       "    </tr>\n",
       "    <tr>\n",
       "      <th>...</th>\n",
       "      <td>...</td>\n",
       "      <td>...</td>\n",
       "      <td>...</td>\n",
       "      <td>...</td>\n",
       "      <td>...</td>\n",
       "      <td>...</td>\n",
       "      <td>...</td>\n",
       "    </tr>\n",
       "    <tr>\n",
       "      <th>495</th>\n",
       "      <td>lewisjessica@craig-evans.com</td>\n",
       "      <td>4483 Jones Motorway Suite 872Lake Jamiefurt, U...</td>\n",
       "      <td>Tan</td>\n",
       "      <td>13.57</td>\n",
       "      <td>36.42</td>\n",
       "      <td>3.75</td>\n",
       "      <td>573.85</td>\n",
       "    </tr>\n",
       "    <tr>\n",
       "      <th>496</th>\n",
       "      <td>katrina56@gmail.com</td>\n",
       "      <td>172 Owen Divide Suite 497West Richard, CA 19320</td>\n",
       "      <td>PaleVioletRed</td>\n",
       "      <td>11.70</td>\n",
       "      <td>37.19</td>\n",
       "      <td>3.58</td>\n",
       "      <td>529.05</td>\n",
       "    </tr>\n",
       "    <tr>\n",
       "      <th>497</th>\n",
       "      <td>dale88@hotmail.com</td>\n",
       "      <td>0787 Andrews Ranch Apt. 633South Chadburgh, TN...</td>\n",
       "      <td>Cornsilk</td>\n",
       "      <td>11.50</td>\n",
       "      <td>38.33</td>\n",
       "      <td>4.96</td>\n",
       "      <td>551.62</td>\n",
       "    </tr>\n",
       "    <tr>\n",
       "      <th>498</th>\n",
       "      <td>cwilson@hotmail.com</td>\n",
       "      <td>680 Jennifer Lodge Apt. 808Brendachester, TX 0...</td>\n",
       "      <td>Teal</td>\n",
       "      <td>12.39</td>\n",
       "      <td>36.84</td>\n",
       "      <td>2.34</td>\n",
       "      <td>456.47</td>\n",
       "    </tr>\n",
       "    <tr>\n",
       "      <th>499</th>\n",
       "      <td>hannahwilson@davidson.com</td>\n",
       "      <td>49791 Rachel Heights Apt. 898East Drewborough,...</td>\n",
       "      <td>DarkMagenta</td>\n",
       "      <td>12.42</td>\n",
       "      <td>35.77</td>\n",
       "      <td>2.74</td>\n",
       "      <td>497.78</td>\n",
       "    </tr>\n",
       "  </tbody>\n",
       "</table>\n",
       "<p>500 rows × 7 columns</p>\n",
       "</div>"
      ],
      "text/plain": [
       "                           \\tEmail  \\\n",
       "0        mstephenson@fernandez.com   \n",
       "1                hduke@hotmail.com   \n",
       "2                 pallen@yahoo.com   \n",
       "3          riverarebecca@gmail.com   \n",
       "4    mstephens@davidson-herman.com   \n",
       "..                             ...   \n",
       "495   lewisjessica@craig-evans.com   \n",
       "496            katrina56@gmail.com   \n",
       "497             dale88@hotmail.com   \n",
       "498            cwilson@hotmail.com   \n",
       "499      hannahwilson@davidson.com   \n",
       "\n",
       "                                               Address            Avatar  \\\n",
       "0           835 Frank TunnelWrightmouth, MI 82180-9605            Violet   \n",
       "1         4547 Archer CommonDiazchester, CA 06566-8576         DarkGreen   \n",
       "2    24645 Valerie Unions Suite 582Cobbborough, DC ...            Bisque   \n",
       "3       1414 David ThroughwayPort Jason, OH 22070-1220       SaddleBrown   \n",
       "4    14023 Rodriguez PassagePort Jacobville, PR 372...  MediumAquaMarine   \n",
       "..                                                 ...               ...   \n",
       "495  4483 Jones Motorway Suite 872Lake Jamiefurt, U...               Tan   \n",
       "496    172 Owen Divide Suite 497West Richard, CA 19320     PaleVioletRed   \n",
       "497  0787 Andrews Ranch Apt. 633South Chadburgh, TN...          Cornsilk   \n",
       "498  680 Jennifer Lodge Apt. 808Brendachester, TX 0...              Teal   \n",
       "499  49791 Rachel Heights Apt. 898East Drewborough,...       DarkMagenta   \n",
       "\n",
       "     Time on App  Time on Website  Length of Membership  Yearly Amount Spent  \n",
       "0          12.66            39.58                  4.08               587.95  \n",
       "1          11.11            37.27                  2.66               392.20  \n",
       "2          11.33            37.11                  4.10               487.55  \n",
       "3          13.72            36.72                  3.12               581.85  \n",
       "4          12.80            37.54                  4.45               599.41  \n",
       "..           ...              ...                   ...                  ...  \n",
       "495        13.57            36.42                  3.75               573.85  \n",
       "496        11.70            37.19                  3.58               529.05  \n",
       "497        11.50            38.33                  4.96               551.62  \n",
       "498        12.39            36.84                  2.34               456.47  \n",
       "499        12.42            35.77                  2.74               497.78  \n",
       "\n",
       "[500 rows x 7 columns]"
      ]
     },
     "execution_count": 2,
     "metadata": {},
     "output_type": "execute_result"
    }
   ],
   "source": [
    "#Let's sse what's going on here\n",
    "df = pd.read_csv(\"/kaggle/input/ecommerce-customer-analysis/ecomm_data.csv\")\n",
    "df"
   ]
  },
  {
   "cell_type": "code",
   "execution_count": 3,
   "id": "99e1c301",
   "metadata": {
    "execution": {
     "iopub.execute_input": "2024-05-18T16:21:14.980851Z",
     "iopub.status.busy": "2024-05-18T16:21:14.979861Z",
     "iopub.status.idle": "2024-05-18T16:21:14.991212Z",
     "shell.execute_reply": "2024-05-18T16:21:14.989657Z"
    },
    "papermill": {
     "duration": 0.020051,
     "end_time": "2024-05-18T16:21:14.993875",
     "exception": false,
     "start_time": "2024-05-18T16:21:14.973824",
     "status": "completed"
    },
    "tags": []
   },
   "outputs": [
    {
     "data": {
      "text/plain": [
       "\\tEmail                 0\n",
       "Address                 0\n",
       "Avatar                  0\n",
       "Time on App             0\n",
       "Time on Website         0\n",
       "Length of Membership    0\n",
       "Yearly Amount Spent     0\n",
       "dtype: int64"
      ]
     },
     "execution_count": 3,
     "metadata": {},
     "output_type": "execute_result"
    }
   ],
   "source": [
    "df.isnull().sum() #huh, I see no missing values, nice:)"
   ]
  },
  {
   "cell_type": "code",
   "execution_count": 4,
   "id": "44326682",
   "metadata": {
    "execution": {
     "iopub.execute_input": "2024-05-18T16:21:15.006257Z",
     "iopub.status.busy": "2024-05-18T16:21:15.005456Z",
     "iopub.status.idle": "2024-05-18T16:21:15.012521Z",
     "shell.execute_reply": "2024-05-18T16:21:15.011486Z"
    },
    "papermill": {
     "duration": 0.015853,
     "end_time": "2024-05-18T16:21:15.014918",
     "exception": false,
     "start_time": "2024-05-18T16:21:14.999065",
     "status": "completed"
    },
    "tags": []
   },
   "outputs": [
    {
     "data": {
      "text/plain": [
       "Index(['\\tEmail', 'Address', 'Avatar', 'Time on App', 'Time on Website',\n",
       "       'Length of Membership', 'Yearly Amount Spent'],\n",
       "      dtype='object')"
      ]
     },
     "execution_count": 4,
     "metadata": {},
     "output_type": "execute_result"
    }
   ],
   "source": [
    "df.columns"
   ]
  },
  {
   "cell_type": "code",
   "execution_count": 5,
   "id": "147d7630",
   "metadata": {
    "execution": {
     "iopub.execute_input": "2024-05-18T16:21:15.027585Z",
     "iopub.status.busy": "2024-05-18T16:21:15.027195Z",
     "iopub.status.idle": "2024-05-18T16:21:15.041233Z",
     "shell.execute_reply": "2024-05-18T16:21:15.039996Z"
    },
    "papermill": {
     "duration": 0.023694,
     "end_time": "2024-05-18T16:21:15.043756",
     "exception": false,
     "start_time": "2024-05-18T16:21:15.020062",
     "status": "completed"
    },
    "tags": []
   },
   "outputs": [
    {
     "data": {
      "text/plain": [
       "Time on App              12.05262\n",
       "Time on Website          37.06048\n",
       "Length of Membership      3.53336\n",
       "Yearly Amount Spent     499.31424\n",
       "dtype: float64"
      ]
     },
     "execution_count": 5,
     "metadata": {},
     "output_type": "execute_result"
    }
   ],
   "source": [
    "#I wonder what the average is on each numeric variable?\n",
    "\n",
    "df2 = df[['Time on App','Time on Website','Length of Membership','Yearly Amount Spent']]\n",
    "\n",
    "df2.mean()\n"
   ]
  },
  {
   "cell_type": "code",
   "execution_count": 6,
   "id": "c27dbe85",
   "metadata": {
    "execution": {
     "iopub.execute_input": "2024-05-18T16:21:15.056519Z",
     "iopub.status.busy": "2024-05-18T16:21:15.056055Z",
     "iopub.status.idle": "2024-05-18T16:21:15.500752Z",
     "shell.execute_reply": "2024-05-18T16:21:15.499478Z"
    },
    "papermill": {
     "duration": 0.45418,
     "end_time": "2024-05-18T16:21:15.503364",
     "exception": false,
     "start_time": "2024-05-18T16:21:15.049184",
     "status": "completed"
    },
    "tags": []
   },
   "outputs": [
    {
     "data": {
      "image/png": "[encoded data removed]",
      "text/plain": [
       "<Figure size 1000x800 with 1 Axes>"
      ]
     },
     "metadata": {},
     "output_type": "display_data"
    }
   ],
   "source": [
    "#Let's see what the whiskerbox looks like\n",
    "\n",
    "df2.boxplot(figsize=(10,8))\n",
    "plt.xticks(rotation = 'vertical')\n",
    "plt.tight_layout()\n",
    "plt.show()\n",
    "\n",
    "#Given the outliers on the plot, these variables are normally distributed, shall we perhaps see this in a histogram"
   ]
  },
  {
   "cell_type": "code",
   "execution_count": 7,
   "id": "6ec040bb",
   "metadata": {
    "execution": {
     "iopub.execute_input": "2024-05-18T16:21:15.517427Z",
     "iopub.status.busy": "2024-05-18T16:21:15.517020Z",
     "iopub.status.idle": "2024-05-18T16:21:15.813276Z",
     "shell.execute_reply": "2024-05-18T16:21:15.812186Z"
    },
    "papermill": {
     "duration": 0.306282,
     "end_time": "2024-05-18T16:21:15.815847",
     "exception": false,
     "start_time": "2024-05-18T16:21:15.509565",
     "status": "completed"
    },
    "tags": []
   },
   "outputs": [
    {
     "data": {
      "image/png": "[encoded data removed]",
      "text/plain": [
       "<Figure size 1000x800 with 1 Axes>"
      ]
     },
     "metadata": {},
     "output_type": "display_data"
    }
   ],
   "source": [
    "plt.figure(figsize=(10,8))\n",
    "plt.hist(df2['Time on App'],bins=15)\n",
    "plt.tight_layout\n",
    "plt.show()"
   ]
  },
  {
   "cell_type": "code",
   "execution_count": 8,
   "id": "45a28c0a",
   "metadata": {
    "execution": {
     "iopub.execute_input": "2024-05-18T16:21:15.830266Z",
     "iopub.status.busy": "2024-05-18T16:21:15.829874Z",
     "iopub.status.idle": "2024-05-18T16:21:15.836679Z",
     "shell.execute_reply": "2024-05-18T16:21:15.835597Z"
    },
    "papermill": {
     "duration": 0.017013,
     "end_time": "2024-05-18T16:21:15.839155",
     "exception": false,
     "start_time": "2024-05-18T16:21:15.822142",
     "status": "completed"
    },
    "tags": []
   },
   "outputs": [],
   "source": [
    "def mean_confidence_interval(data, confidence=0.95):\n",
    "    a = 1.0 * np.array(data)\n",
    "    n = len(a)\n",
    "    m, se = np.mean(a), scipy.stats.sem(a)\n",
    "    h = se * scipy.stats.t.ppf((1 + confidence) / 2., n-1)\n",
    "    return m, h"
   ]
  },
  {
   "cell_type": "code",
   "execution_count": 9,
   "id": "06c0976e",
   "metadata": {
    "execution": {
     "iopub.execute_input": "2024-05-18T16:21:15.854479Z",
     "iopub.status.busy": "2024-05-18T16:21:15.853359Z",
     "iopub.status.idle": "2024-05-18T16:21:15.871173Z",
     "shell.execute_reply": "2024-05-18T16:21:15.869851Z"
    },
    "papermill": {
     "duration": 0.028224,
     "end_time": "2024-05-18T16:21:15.873816",
     "exception": false,
     "start_time": "2024-05-18T16:21:15.845592",
     "status": "completed"
    },
    "tags": []
   },
   "outputs": [
    {
     "name": "stdout",
     "output_type": "stream",
     "text": [
      "Conf=0.85 Time on App: 11.99...12.12, Time on Website: 37.00...37.13 \n",
      "Conf=0.90 Time on App: 11.98...12.13, Time on Website: 36.99...37.13 \n",
      "Conf=0.95 Time on App: 11.97...12.14, Time on Website: 36.97...37.15 \n"
     ]
    }
   ],
   "source": [
    "for p in [0.85,0.90,0.95]:\n",
    "    m1,h1 = mean_confidence_interval(df2['Time on App'],p)\n",
    "    m2,h2 = mean_confidence_interval(df2['Time on Website'],p)\n",
    "    print(f'Conf={p:.2f} Time on App: {m1-h1:.2f}...{m1+h1:.2f}, Time on Website: {m2-h2:.2f}...{m2+h2:.2f} ')"
   ]
  },
  {
   "cell_type": "code",
   "execution_count": 10,
   "id": "b040097a",
   "metadata": {
    "execution": {
     "iopub.execute_input": "2024-05-18T16:21:15.888396Z",
     "iopub.status.busy": "2024-05-18T16:21:15.887987Z",
     "iopub.status.idle": "2024-05-18T16:21:15.893310Z",
     "shell.execute_reply": "2024-05-18T16:21:15.892183Z"
    },
    "papermill": {
     "duration": 0.015512,
     "end_time": "2024-05-18T16:21:15.895726",
     "exception": false,
     "start_time": "2024-05-18T16:21:15.880214",
     "status": "completed"
    },
    "tags": []
   },
   "outputs": [],
   "source": [
    "#The above confidences for both Time on App and Time on Website seem withing range, however Time on Website proves to be higher than Time on App."
   ]
  }
 ],
 "metadata": {
  "kaggle": {
   "accelerator": "none",
   "dataSources": [
    {
     "datasetId": 5015970,
     "sourceId": 8424352,
     "sourceType": "datasetVersion"
    }
   ],
   "dockerImageVersionId": 30698,
   "isGpuEnabled": false,
   "isInternetEnabled": true,
   "language": "python",
   "sourceType": "notebook"
  },
  "kernelspec": {
   "display_name": "Python 3",
   "language": "python",
   "name": "python3"
  },
  "language_info": {
   "codemirror_mode": {
    "name": "ipython",
    "version": 3
   },
   "file_extension": ".py",
   "mimetype": "text/x-python",
   "name": "python",
   "nbconvert_exporter": "python",
   "pygments_lexer": "ipython3",
   "version": "3.10.13"
  },
  "papermill": {
   "default_parameters": {},
   "duration": 6.795895,
   "end_time": "2024-05-18T16:21:16.523485",
   "environment_variables": {},
   "exception": null,
   "input_path": "__notebook__.ipynb",
   "output_path": "__notebook__.ipynb",
   "parameters": {},
   "start_time": "2024-05-18T16:21:09.727590",
   "version": "2.5.0"
  }
 },
 "nbformat": 4,
 "nbformat_minor": 5
}
